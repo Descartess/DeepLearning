{
  "nbformat": 4,
  "nbformat_minor": 0,
  "metadata": {
    "colab": {
      "name": "Binary Classification(IMDB).ipynb",
      "version": "0.3.2",
      "provenance": [],
      "collapsed_sections": [],
      "include_colab_link": true
    },
    "kernelspec": {
      "name": "python3",
      "display_name": "Python 3"
    }
  },
  "cells": [
    {
      "cell_type": "markdown",
      "metadata": {
        "id": "view-in-github",
        "colab_type": "text"
      },
      "source": [
        "<a href=\"https://colab.research.google.com/github/Descartess/DeepLearning/blob/master/IMDB-Binary_Classification.ipynb\" target=\"_parent\"><img src=\"https://colab.research.google.com/assets/colab-badge.svg\" alt=\"Open In Colab\"/></a>"
      ]
    },
    {
      "cell_type": "markdown",
      "metadata": {
        "id": "ejtivGjVqXxV",
        "colab_type": "text"
      },
      "source": [
        "### Loading the data"
      ]
    },
    {
      "cell_type": "markdown",
      "metadata": {
        "id": "veClk3sGyhTS",
        "colab_type": "text"
      },
      "source": [
        "replace the load function from numpy so that the default value for `allow_pickle=True`\n",
        "this is achieved using lambdas think closures in swift"
      ]
    },
    {
      "cell_type": "code",
      "metadata": {
        "id": "3mDArSOq3jKC",
        "colab_type": "code",
        "outputId": "8749914b-7f8d-4361-a861-2306a92bb0b5",
        "colab": {
          "base_uri": "https://localhost:8080/",
          "height": 52
        }
      },
      "source": [
        "from keras.datasets import imdb\n",
        "import numpy as np\n",
        "\n",
        "np_load_old = np.load\n",
        "\n",
        "np.load = lambda *a,**k: np_load_old(*a, allow_pickle=True, **k)\n",
        "\n",
        "(train_data, train_labels), (test_data, test_labels) = imdb.load_data(num_words=10000)\n",
        "\n",
        "np.load = np_load_old\n",
        "\n",
        "\n",
        "max([max(sequence) for sequence in train_data])"
      ],
      "execution_count": 0,
      "outputs": [
        {
          "output_type": "stream",
          "text": [
            "Using TensorFlow backend.\n"
          ],
          "name": "stderr"
        },
        {
          "output_type": "execute_result",
          "data": {
            "text/plain": [
              "9999"
            ]
          },
          "metadata": {
            "tags": []
          },
          "execution_count": 1
        }
      ]
    },
    {
      "cell_type": "markdown",
      "metadata": {
        "id": "i_b4smuaqGzG",
        "colab_type": "text"
      },
      "source": [
        "### Preparing the data"
      ]
    },
    {
      "cell_type": "markdown",
      "metadata": {
        "id": "Cyu2lXJeo1_Y",
        "colab_type": "text"
      },
      "source": [
        "\n",
        "\n",
        "```\n",
        "Using one hot encoding to prepare the data. manual method below\n",
        "```\n",
        "\n"
      ]
    },
    {
      "cell_type": "code",
      "metadata": {
        "id": "a_cnfT3ezmAJ",
        "colab_type": "code",
        "outputId": "d4d553ab-9d45-4ad1-a6f4-b788acfa2aa0",
        "colab": {
          "base_uri": "https://localhost:8080/",
          "height": 34
        }
      },
      "source": [
        "def vectorise_sequences(sequences, dimension=10000):\n",
        "  results = np.zeros((len(sequences),dimension))\n",
        "  for i, sequence in enumerate(sequences):\n",
        "    results[i, sequence] = 1\n",
        "  return results\n",
        "\n",
        "x_train = vectorise_sequences(train_data)\n",
        "x_test = vectorise_sequences(test_data)\n",
        "\n",
        "x_train[0]"
      ],
      "execution_count": 0,
      "outputs": [
        {
          "output_type": "execute_result",
          "data": {
            "text/plain": [
              "array([0., 1., 1., ..., 0., 0., 0.])"
            ]
          },
          "metadata": {
            "tags": []
          },
          "execution_count": 2
        }
      ]
    },
    {
      "cell_type": "markdown",
      "metadata": {
        "id": "-nyD7yRjpFd3",
        "colab_type": "text"
      },
      "source": [
        "Using the numpy method to do one hot encoding"
      ]
    },
    {
      "cell_type": "code",
      "metadata": {
        "id": "Iv4-5C-Jpkvy",
        "colab_type": "code",
        "colab": {}
      },
      "source": [
        "y_train = np.asarray(train_labels).astype('float32')\n",
        "y_test = np.asarray(test_labels).astype('float32')"
      ],
      "execution_count": 0,
      "outputs": []
    },
    {
      "cell_type": "markdown",
      "metadata": {
        "id": "hyHU2VM_qCKB",
        "colab_type": "text"
      },
      "source": [
        "### Building the network"
      ]
    },
    {
      "cell_type": "code",
      "metadata": {
        "id": "pMOizKt-qzkf",
        "colab_type": "code",
        "outputId": "e6791d20-ca45-446e-bf54-c2e0f9ac0978",
        "colab": {
          "base_uri": "https://localhost:8080/",
          "height": 280
        }
      },
      "source": [
        "from keras import models\n",
        "from keras import layers\n",
        "from keras import optimizers\n",
        "from keras import losses\n",
        "from keras import metrics\n",
        "\n",
        "models = models.Sequential()\n",
        "models.add(layers.Dense(16, activation='relu',input_shape=(10000,)))\n",
        "models.add(layers.Dense(16,activation='relu'))\n",
        "models.add(layers.Dense(1,activation='sigmoid'))\n",
        "\n",
        "\n",
        "models.compile(optimizer=optimizers.RMSprop(lr=0.001),\n",
        "              loss=losses.binary_crossentropy,\n",
        "              metrics=[metrics.binary_accuracy])\n",
        "\n"
      ],
      "execution_count": 0,
      "outputs": [
        {
          "output_type": "stream",
          "text": [
            "WARNING: Logging before flag parsing goes to stderr.\n",
            "W0822 12:07:36.858458 139825981867904 deprecation_wrapper.py:119] From /usr/local/lib/python3.6/dist-packages/keras/backend/tensorflow_backend.py:74: The name tf.get_default_graph is deprecated. Please use tf.compat.v1.get_default_graph instead.\n",
            "\n",
            "W0822 12:07:36.877177 139825981867904 deprecation_wrapper.py:119] From /usr/local/lib/python3.6/dist-packages/keras/backend/tensorflow_backend.py:517: The name tf.placeholder is deprecated. Please use tf.compat.v1.placeholder instead.\n",
            "\n",
            "W0822 12:07:36.879958 139825981867904 deprecation_wrapper.py:119] From /usr/local/lib/python3.6/dist-packages/keras/backend/tensorflow_backend.py:4138: The name tf.random_uniform is deprecated. Please use tf.random.uniform instead.\n",
            "\n",
            "W0822 12:07:36.963769 139825981867904 deprecation_wrapper.py:119] From /usr/local/lib/python3.6/dist-packages/keras/optimizers.py:790: The name tf.train.Optimizer is deprecated. Please use tf.compat.v1.train.Optimizer instead.\n",
            "\n",
            "W0822 12:07:36.972059 139825981867904 deprecation_wrapper.py:119] From /usr/local/lib/python3.6/dist-packages/keras/backend/tensorflow_backend.py:3376: The name tf.log is deprecated. Please use tf.math.log instead.\n",
            "\n",
            "W0822 12:07:36.979742 139825981867904 deprecation.py:323] From /usr/local/lib/python3.6/dist-packages/tensorflow/python/ops/nn_impl.py:180: add_dispatch_support.<locals>.wrapper (from tensorflow.python.ops.array_ops) is deprecated and will be removed in a future version.\n",
            "Instructions for updating:\n",
            "Use tf.where in 2.0, which has the same broadcast rule as np.where\n"
          ],
          "name": "stderr"
        }
      ]
    },
    {
      "cell_type": "markdown",
      "metadata": {
        "id": "b9dU2Yiv-RNo",
        "colab_type": "text"
      },
      "source": [
        "### Training the model"
      ]
    },
    {
      "cell_type": "code",
      "metadata": {
        "id": "V1ANwDZl-V1j",
        "colab_type": "code",
        "outputId": "d42670d9-5e9a-4de1-863b-e193bc7e1261",
        "colab": {
          "base_uri": "https://localhost:8080/",
          "height": 784
        }
      },
      "source": [
        "x_val = x_train[:10000]\n",
        "partial_x_train = x_train[10000:]\n",
        "\n",
        "y_val = y_train[:10000]\n",
        "partial_y_train = y_train[10000:]\n",
        "\n",
        "\n",
        "history = models.fit(partial_x_train,\n",
        "                    partial_y_train,\n",
        "                    epochs=20,\n",
        "                    batch_size=512,\n",
        "                    validation_data=(x_val,y_val))"
      ],
      "execution_count": 0,
      "outputs": [
        {
          "output_type": "stream",
          "text": [
            "W0822 12:07:37.213568 139825981867904 deprecation_wrapper.py:119] From /usr/local/lib/python3.6/dist-packages/keras/backend/tensorflow_backend.py:986: The name tf.assign_add is deprecated. Please use tf.compat.v1.assign_add instead.\n",
            "\n"
          ],
          "name": "stderr"
        },
        {
          "output_type": "stream",
          "text": [
            "Train on 15000 samples, validate on 10000 samples\n",
            "Epoch 1/20\n",
            "15000/15000 [==============================] - 2s 141us/step - loss: 0.5048 - binary_accuracy: 0.7871 - val_loss: 0.3775 - val_binary_accuracy: 0.8703\n",
            "Epoch 2/20\n",
            "15000/15000 [==============================] - 2s 122us/step - loss: 0.2992 - binary_accuracy: 0.9046 - val_loss: 0.3001 - val_binary_accuracy: 0.8896\n",
            "Epoch 3/20\n",
            "15000/15000 [==============================] - 2s 122us/step - loss: 0.2173 - binary_accuracy: 0.9284 - val_loss: 0.3081 - val_binary_accuracy: 0.8715\n",
            "Epoch 4/20\n",
            "15000/15000 [==============================] - 2s 123us/step - loss: 0.1747 - binary_accuracy: 0.9439 - val_loss: 0.2826 - val_binary_accuracy: 0.8842\n",
            "Epoch 5/20\n",
            "15000/15000 [==============================] - 2s 122us/step - loss: 0.1422 - binary_accuracy: 0.9541 - val_loss: 0.2855 - val_binary_accuracy: 0.8858\n",
            "Epoch 6/20\n",
            "15000/15000 [==============================] - 2s 124us/step - loss: 0.1147 - binary_accuracy: 0.9652 - val_loss: 0.3146 - val_binary_accuracy: 0.8775\n",
            "Epoch 7/20\n",
            "15000/15000 [==============================] - 2s 121us/step - loss: 0.0977 - binary_accuracy: 0.9707 - val_loss: 0.3131 - val_binary_accuracy: 0.8841\n",
            "Epoch 8/20\n",
            "15000/15000 [==============================] - 2s 121us/step - loss: 0.0805 - binary_accuracy: 0.9765 - val_loss: 0.3866 - val_binary_accuracy: 0.8654\n",
            "Epoch 9/20\n",
            "15000/15000 [==============================] - 2s 121us/step - loss: 0.0660 - binary_accuracy: 0.9821 - val_loss: 0.3642 - val_binary_accuracy: 0.8778\n",
            "Epoch 10/20\n",
            "15000/15000 [==============================] - 2s 121us/step - loss: 0.0562 - binary_accuracy: 0.9849 - val_loss: 0.3851 - val_binary_accuracy: 0.8778\n",
            "Epoch 11/20\n",
            "15000/15000 [==============================] - 2s 121us/step - loss: 0.0435 - binary_accuracy: 0.9903 - val_loss: 0.4171 - val_binary_accuracy: 0.8766\n",
            "Epoch 12/20\n",
            "15000/15000 [==============================] - 2s 122us/step - loss: 0.0385 - binary_accuracy: 0.9917 - val_loss: 0.4552 - val_binary_accuracy: 0.8698\n",
            "Epoch 13/20\n",
            "15000/15000 [==============================] - 2s 122us/step - loss: 0.0300 - binary_accuracy: 0.9929 - val_loss: 0.4696 - val_binary_accuracy: 0.8733\n",
            "Epoch 14/20\n",
            "15000/15000 [==============================] - 2s 123us/step - loss: 0.0250 - binary_accuracy: 0.9946 - val_loss: 0.5031 - val_binary_accuracy: 0.8725\n",
            "Epoch 15/20\n",
            "15000/15000 [==============================] - 2s 121us/step - loss: 0.0176 - binary_accuracy: 0.9983 - val_loss: 0.5377 - val_binary_accuracy: 0.8691\n",
            "Epoch 16/20\n",
            "15000/15000 [==============================] - 2s 122us/step - loss: 0.0154 - binary_accuracy: 0.9977 - val_loss: 0.5826 - val_binary_accuracy: 0.8676\n",
            "Epoch 17/20\n",
            "15000/15000 [==============================] - 2s 122us/step - loss: 0.0112 - binary_accuracy: 0.9989 - val_loss: 0.6195 - val_binary_accuracy: 0.8670\n",
            "Epoch 18/20\n",
            "15000/15000 [==============================] - 2s 124us/step - loss: 0.0118 - binary_accuracy: 0.9974 - val_loss: 0.6411 - val_binary_accuracy: 0.8672\n",
            "Epoch 19/20\n",
            "15000/15000 [==============================] - 2s 122us/step - loss: 0.0055 - binary_accuracy: 0.9997 - val_loss: 0.7378 - val_binary_accuracy: 0.8550\n",
            "Epoch 20/20\n",
            "15000/15000 [==============================] - 2s 122us/step - loss: 0.0092 - binary_accuracy: 0.9981 - val_loss: 0.6998 - val_binary_accuracy: 0.8653\n"
          ],
          "name": "stdout"
        }
      ]
    },
    {
      "cell_type": "markdown",
      "metadata": {
        "id": "_o651anN_zUZ",
        "colab_type": "text"
      },
      "source": [
        "### Validating our approach"
      ]
    },
    {
      "cell_type": "code",
      "metadata": {
        "id": "Tjlex2WlG8nS",
        "colab_type": "code",
        "colab": {}
      },
      "source": [
        ""
      ],
      "execution_count": 0,
      "outputs": []
    },
    {
      "cell_type": "code",
      "metadata": {
        "id": "dQYacKuZ_yTL",
        "colab_type": "code",
        "outputId": "c8e159cd-8268-4bcf-9f7b-8e592d36b703",
        "colab": {
          "base_uri": "https://localhost:8080/",
          "height": 34
        }
      },
      "source": [
        "history_dict = history.history\n",
        "history_dict.keys()"
      ],
      "execution_count": 0,
      "outputs": [
        {
          "output_type": "execute_result",
          "data": {
            "text/plain": [
              "dict_keys(['val_loss', 'val_binary_accuracy', 'loss', 'binary_accuracy'])"
            ]
          },
          "metadata": {
            "tags": []
          },
          "execution_count": 6
        }
      ]
    },
    {
      "cell_type": "code",
      "metadata": {
        "id": "6x-VwiJ7BIcf",
        "colab_type": "code",
        "outputId": "2b68ab11-e544-466a-c500-46361fffc671",
        "colab": {
          "base_uri": "https://localhost:8080/",
          "height": 295
        }
      },
      "source": [
        "import matplotlib.pyplot as plt\n",
        "loss_values = history_dict['loss']\n",
        "val_loss_values = history_dict['val_loss']\n",
        "training_accuracy = history_dict['binary_accuracy']\n",
        "validation_accuracy = history_dict['val_binary_accuracy']\n",
        "\n",
        "epochs = range(1, len(training_accuracy)+1)\n",
        "\n",
        "plt.plot(epochs, loss_values,'bo',label='Training loss')\n",
        "plt.plot(epochs, val_loss_values,'b',label='Validation loss')\n",
        "plt.xlabel('Epochs')\n",
        "plt.ylabel('Loss')\n",
        "plt.title('Training and validation loss')\n",
        "plt.legend()\n",
        "plt.show()"
      ],
      "execution_count": 0,
      "outputs": [
        {
          "output_type": "display_data",
          "data": {
            "image/png": "[encoded data removed]",
            "text/plain": [
              "<Figure size 432x288 with 1 Axes>"
            ]
          },
          "metadata": {
            "tags": []
          }
        }
      ]
    },
    {
      "cell_type": "code",
      "metadata": {
        "id": "j7ralxxcDMBW",
        "colab_type": "code",
        "outputId": "e4e50654-4c98-48e9-de3e-c00130890459",
        "colab": {
          "base_uri": "https://localhost:8080/",
          "height": 295
        }
      },
      "source": [
        "plt.plot(epochs, training_accuracy,'bo',label='Training accuracy')\n",
        "plt.plot(epochs, validation_accuracy,'b',label='Validation accuracy')\n",
        "plt.xlabel('Epochs')\n",
        "plt.ylabel('Loss')\n",
        "plt.title('Training and validation accuracy')\n",
        "plt.legend()\n",
        "plt.show()"
      ],
      "execution_count": 0,
      "outputs": [
        {
          "output_type": "display_data",
          "data": {
            "image/png": "[encoded data removed]",
            "text/plain": [
              "<Figure size 432x288 with 1 Axes>"
            ]
          },
          "metadata": {
            "tags": []
          }
        }
      ]
    }
  ]
}